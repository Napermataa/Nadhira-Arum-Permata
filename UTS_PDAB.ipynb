{
  "nbformat": 4,
  "nbformat_minor": 0,
  "metadata": {
    "colab": {
      "provenance": []
    },
    "kernelspec": {
      "name": "python3",
      "display_name": "Python 3"
    },
    "language_info": {
      "name": "python"
    }
  },
  "cells": [
    {
      "cell_type": "code",
      "execution_count": 1,
      "metadata": {
        "id": "IO09rh7ySSHd"
      },
      "outputs": [],
      "source": [
        "\n",
        "import pandas as pd\n",
        "import numpy as np\n",
        "import matplotlib.pyplot as plt\n",
        "import seaborn as sns\n",
        "\n",
        "from sklearn.model_selection import train_test_split, StratifiedKFold, GridSearchCV\n",
        "from sklearn.preprocessing import StandardScaler, LabelEncoder, OneHotEncoder\n",
        "from sklearn.impute import SimpleImputer\n",
        "from sklearn.ensemble import RandomForestClassifier\n",
        "from sklearn.metrics import classification_report, confusion_matrix, ConfusionMatrixDisplay, roc_auc_score\n",
        "from sklearn.pipeline import Pipeline\n",
        "from sklearn.compose import ColumnTransformer\n",
        "from imblearn.over_sampling import SMOTE\n",
        "from imblearn.pipeline import Pipeline as ImbPipeline\n"
      ]
    },
    {
      "cell_type": "code",
      "source": [
        "# Load data\n",
        "data = pd.read_csv('/content/Titanic-Dataset.csv')\n"
      ],
      "metadata": {
        "id": "_XqPaQPDS_JY"
      },
      "execution_count": 2,
      "outputs": []
    },
    {
      "cell_type": "code",
      "source": [
        "#1. Eksporasi Awal\n",
        "total_penumpang = len(data)\n",
        "total_penumpang"
      ],
      "metadata": {
        "colab": {
          "base_uri": "https://localhost:8080/"
        },
        "id": "prwj4mo6THZ1",
        "outputId": "5f7a3cc6-7e49-48b4-a093-a87999f86cf0"
      },
      "execution_count": 3,
      "outputs": [
        {
          "output_type": "execute_result",
          "data": {
            "text/plain": [
              "891"
            ]
          },
          "metadata": {},
          "execution_count": 3
        }
      ]
    },
    {
      "cell_type": "markdown",
      "source": [
        "a. Dari data tersebut di ketahui bahwa terdapat 891 penumpang di dalam kapal yang di ketahui"
      ],
      "metadata": {
        "id": "hc5QhwBug7Sf"
      }
    },
    {
      "cell_type": "code",
      "source": [
        "# Menghitung jumlah penumpang yang selamat dan tidak selamat\n",
        "survival_counts = data['Survived'].value_counts().rename(index={0: 'Tidak Selamat', 1: 'Selamat'})\n",
        "survival_table = survival_counts.to_frame(name='Jumlah Penumpang')\n",
        "plt.figure(figsize=(6, 4))\n",
        "sns.barplot(x=survival_counts.index, y=survival_counts.values, palette='Set2')\n",
        "plt.title('Jumlah Penumpang yang Selamat vs Tidak Selamat')\n",
        "plt.ylabel('Jumlah Penumpang')\n",
        "plt.xlabel('Status')\n",
        "plt.tight_layout()\n",
        "plt.grid(True, axis='y')\n",
        "plt.show()\n",
        "\n",
        "survival_table\n"
      ],
      "metadata": {
        "colab": {
          "base_uri": "https://localhost:8080/",
          "height": 640
        },
        "id": "4p2j8riLZtHN",
        "outputId": "3b0687b1-cd97-490d-9bf9-51a19567a78a"
      },
      "execution_count": 4,
      "outputs": [
        {
          "output_type": "stream",
          "name": "stderr",
          "text": [
            "<ipython-input-4-6ed3d8d2c725>:5: FutureWarning: \n",
            "\n",
            "Passing `palette` without assigning `hue` is deprecated and will be removed in v0.14.0. Assign the `x` variable to `hue` and set `legend=False` for the same effect.\n",
            "\n",
            "  sns.barplot(x=survival_counts.index, y=survival_counts.values, palette='Set2')\n"
          ]
        },
        {
          "output_type": "display_data",
          "data": {
            "text/plain": [
              "<Figure size 600x400 with 1 Axes>"
            ],
            "image/png": "[encoded data removed]"
          },
          "metadata": {}
        },
        {
          "output_type": "execute_result",
          "data": {
            "text/plain": [
              "               Jumlah Penumpang\n",
              "Survived                       \n",
              "Tidak Selamat               549\n",
              "Selamat                     342"
            ],
            "text/html": [
              "\n",
              "  <div id=\"df-df6e0cc0-1c13-43d9-8820-ddb1693e1095\" class=\"colab-df-container\">\n",
              "    <div>\n",
              "<style scoped>\n",
              "    .dataframe tbody tr th:only-of-type {\n",
              "        vertical-align: middle;\n",
              "    }\n",
              "\n",
              "    .dataframe tbody tr th {\n",
              "        vertical-align: top;\n",
              "    }\n",
              "\n",
              "    .dataframe thead th {\n",
              "        text-align: right;\n",
              "    }\n",
              "</style>\n",
              "<table border=\"1\" class=\"dataframe\">\n",
              "  <thead>\n",
              "    <tr style=\"text-align: right;\">\n",
              "      <th></th>\n",
              "      <th>Jumlah Penumpang</th>\n",
              "    </tr>\n",
              "    <tr>\n",
              "      <th>Survived</th>\n",
              "      <th></th>\n",
              "    </tr>\n",
              "  </thead>\n",
              "  <tbody>\n",
              "    <tr>\n",
              "      <th>Tidak Selamat</th>\n",
              "      <td>549</td>\n",
              "    </tr>\n",
              "    <tr>\n",
              "      <th>Selamat</th>\n",
              "      <td>342</td>\n",
              "    </tr>\n",
              "  </tbody>\n",
              "</table>\n",
              "</div>\n",
              "    <div class=\"colab-df-buttons\">\n",
              "\n",
              "  <div class=\"colab-df-container\">\n",
              "    <button class=\"colab-df-convert\" onclick=\"convertToInteractive('df-df6e0cc0-1c13-43d9-8820-ddb1693e1095')\"\n",
              "            title=\"Convert this dataframe to an interactive table.\"\n",
              "            style=\"display:none;\">\n",
              "\n",
              "  <svg xmlns=\"http://www.w3.org/2000/svg\" height=\"24px\" viewBox=\"0 -960 960 960\">\n",
              "    <path d=\"M120-120v-720h720v720H120Zm60-500h600v-160H180v160Zm220 220h160v-160H400v160Zm0 220h160v-160H400v160ZM180-400h160v-160H180v160Zm440 0h160v-160H620v160ZM180-180h160v-160H180v160Zm440 0h160v-160H620v160Z\"/>\n",
              "  </svg>\n",
              "    </button>\n",
              "\n",
              "  <style>\n",
              "    .colab-df-container {\n",
              "      display:flex;\n",
              "      gap: 12px;\n",
              "    }\n",
              "\n",
              "    .colab-df-convert {\n",
              "      background-color: #E8F0FE;\n",
              "      border: none;\n",
              "      border-radius: 50%;\n",
              "      cursor: pointer;\n",
              "      display: none;\n",
              "      fill: #1967D2;\n",
              "      height: 32px;\n",
              "      padding: 0 0 0 0;\n",
              "      width: 32px;\n",
              "    }\n",
              "\n",
              "    .colab-df-convert:hover {\n",
              "      background-color: #E2EBFA;\n",
              "      box-shadow: 0px 1px 2px rgba(60, 64, 67, 0.3), 0px 1px 3px 1px rgba(60, 64, 67, 0.15);\n",
              "      fill: #174EA6;\n",
              "    }\n",
              "\n",
              "    .colab-df-buttons div {\n",
              "      margin-bottom: 4px;\n",
              "    }\n",
              "\n",
              "    [theme=dark] .colab-df-convert {\n",
              "      background-color: #3B4455;\n",
              "      fill: #D2E3FC;\n",
              "    }\n",
              "\n",
              "    [theme=dark] .colab-df-convert:hover {\n",
              "      background-color: #434B5C;\n",
              "      box-shadow: 0px 1px 3px 1px rgba(0, 0, 0, 0.15);\n",
              "      filter: drop-shadow(0px 1px 2px rgba(0, 0, 0, 0.3));\n",
              "      fill: #FFFFFF;\n",
              "    }\n",
              "  </style>\n",
              "\n",
              "    <script>\n",
              "      const buttonEl =\n",
              "        document.querySelector('#df-df6e0cc0-1c13-43d9-8820-ddb1693e1095 button.colab-df-convert');\n",
              "      buttonEl.style.display =\n",
              "        google.colab.kernel.accessAllowed ? 'block' : 'none';\n",
              "\n",
              "      async function convertToInteractive(key) {\n",
              "        const element = document.querySelector('#df-df6e0cc0-1c13-43d9-8820-ddb1693e1095');\n",
              "        const dataTable =\n",
              "          await google.colab.kernel.invokeFunction('convertToInteractive',\n",
              "                                                    [key], {});\n",
              "        if (!dataTable) return;\n",
              "\n",
              "        const docLinkHtml = 'Like what you see? Visit the ' +\n",
              "          '<a target=\"_blank\" href=https://colab.research.google.com/notebooks/data_table.ipynb>data table notebook</a>'\n",
              "          + ' to learn more about interactive tables.';\n",
              "        element.innerHTML = '';\n",
              "        dataTable['output_type'] = 'display_data';\n",
              "        await google.colab.output.renderOutput(dataTable, element);\n",
              "        const docLink = document.createElement('div');\n",
              "        docLink.innerHTML = docLinkHtml;\n",
              "        element.appendChild(docLink);\n",
              "      }\n",
              "    </script>\n",
              "  </div>\n",
              "\n",
              "\n",
              "<div id=\"df-3a73809c-e96d-4947-9d1a-4166d5f93f88\">\n",
              "  <button class=\"colab-df-quickchart\" onclick=\"quickchart('df-3a73809c-e96d-4947-9d1a-4166d5f93f88')\"\n",
              "            title=\"Suggest charts\"\n",
              "            style=\"display:none;\">\n",
              "\n",
              "<svg xmlns=\"http://www.w3.org/2000/svg\" height=\"24px\"viewBox=\"0 0 24 24\"\n",
              "     width=\"24px\">\n",
              "    <g>\n",
              "        <path d=\"M19 3H5c-1.1 0-2 .9-2 2v14c0 1.1.9 2 2 2h14c1.1 0 2-.9 2-2V5c0-1.1-.9-2-2-2zM9 17H7v-7h2v7zm4 0h-2V7h2v10zm4 0h-2v-4h2v4z\"/>\n",
              "    </g>\n",
              "</svg>\n",
              "  </button>\n",
              "\n",
              "<style>\n",
              "  .colab-df-quickchart {\n",
              "      --bg-color: #E8F0FE;\n",
              "      --fill-color: #1967D2;\n",
              "      --hover-bg-color: #E2EBFA;\n",
              "      --hover-fill-color: #174EA6;\n",
              "      --disabled-fill-color: #AAA;\n",
              "      --disabled-bg-color: #DDD;\n",
              "  }\n",
              "\n",
              "  [theme=dark] .colab-df-quickchart {\n",
              "      --bg-color: #3B4455;\n",
              "      --fill-color: #D2E3FC;\n",
              "      --hover-bg-color: #434B5C;\n",
              "      --hover-fill-color: #FFFFFF;\n",
              "      --disabled-bg-color: #3B4455;\n",
              "      --disabled-fill-color: #666;\n",
              "  }\n",
              "\n",
              "  .colab-df-quickchart {\n",
              "    background-color: var(--bg-color);\n",
              "    border: none;\n",
              "    border-radius: 50%;\n",
              "    cursor: pointer;\n",
              "    display: none;\n",
              "    fill: var(--fill-color);\n",
              "    height: 32px;\n",
              "    padding: 0;\n",
              "    width: 32px;\n",
              "  }\n",
              "\n",
              "  .colab-df-quickchart:hover {\n",
              "    background-color: var(--hover-bg-color);\n",
              "    box-shadow: 0 1px 2px rgba(60, 64, 67, 0.3), 0 1px 3px 1px rgba(60, 64, 67, 0.15);\n",
              "    fill: var(--button-hover-fill-color);\n",
              "  }\n",
              "\n",
              "  .colab-df-quickchart-complete:disabled,\n",
              "  .colab-df-quickchart-complete:disabled:hover {\n",
              "    background-color: var(--disabled-bg-color);\n",
              "    fill: var(--disabled-fill-color);\n",
              "    box-shadow: none;\n",
              "  }\n",
              "\n",
              "  .colab-df-spinner {\n",
              "    border: 2px solid var(--fill-color);\n",
              "    border-color: transparent;\n",
              "    border-bottom-color: var(--fill-color);\n",
              "    animation:\n",
              "      spin 1s steps(1) infinite;\n",
              "  }\n",
              "\n",
              "  @keyframes spin {\n",
              "    0% {\n",
              "      border-color: transparent;\n",
              "      border-bottom-color: var(--fill-color);\n",
              "      border-left-color: var(--fill-color);\n",
              "    }\n",
              "    20% {\n",
              "      border-color: transparent;\n",
              "      border-left-color: var(--fill-color);\n",
              "      border-top-color: var(--fill-color);\n",
              "    }\n",
              "    30% {\n",
              "      border-color: transparent;\n",
              "      border-left-color: var(--fill-color);\n",
              "      border-top-color: var(--fill-color);\n",
              "      border-right-color: var(--fill-color);\n",
              "    }\n",
              "    40% {\n",
              "      border-color: transparent;\n",
              "      border-right-color: var(--fill-color);\n",
              "      border-top-color: var(--fill-color);\n",
              "    }\n",
              "    60% {\n",
              "      border-color: transparent;\n",
              "      border-right-color: var(--fill-color);\n",
              "    }\n",
              "    80% {\n",
              "      border-color: transparent;\n",
              "      border-right-color: var(--fill-color);\n",
              "      border-bottom-color: var(--fill-color);\n",
              "    }\n",
              "    90% {\n",
              "      border-color: transparent;\n",
              "      border-bottom-color: var(--fill-color);\n",
              "    }\n",
              "  }\n",
              "</style>\n",
              "\n",
              "  <script>\n",
              "    async function quickchart(key) {\n",
              "      const quickchartButtonEl =\n",
              "        document.querySelector('#' + key + ' button');\n",
              "      quickchartButtonEl.disabled = true;  // To prevent multiple clicks.\n",
              "      quickchartButtonEl.classList.add('colab-df-spinner');\n",
              "      try {\n",
              "        const charts = await google.colab.kernel.invokeFunction(\n",
              "            'suggestCharts', [key], {});\n",
              "      } catch (error) {\n",
              "        console.error('Error during call to suggestCharts:', error);\n",
              "      }\n",
              "      quickchartButtonEl.classList.remove('colab-df-spinner');\n",
              "      quickchartButtonEl.classList.add('colab-df-quickchart-complete');\n",
              "    }\n",
              "    (() => {\n",
              "      let quickchartButtonEl =\n",
              "        document.querySelector('#df-3a73809c-e96d-4947-9d1a-4166d5f93f88 button');\n",
              "      quickchartButtonEl.style.display =\n",
              "        google.colab.kernel.accessAllowed ? 'block' : 'none';\n",
              "    })();\n",
              "  </script>\n",
              "</div>\n",
              "\n",
              "  <div id=\"id_fca92cca-5d1e-4da2-93eb-5efefba49b43\">\n",
              "    <style>\n",
              "      .colab-df-generate {\n",
              "        background-color: #E8F0FE;\n",
              "        border: none;\n",
              "        border-radius: 50%;\n",
              "        cursor: pointer;\n",
              "        display: none;\n",
              "        fill: #1967D2;\n",
              "        height: 32px;\n",
              "        padding: 0 0 0 0;\n",
              "        width: 32px;\n",
              "      }\n",
              "\n",
              "      .colab-df-generate:hover {\n",
              "        background-color: #E2EBFA;\n",
              "        box-shadow: 0px 1px 2px rgba(60, 64, 67, 0.3), 0px 1px 3px 1px rgba(60, 64, 67, 0.15);\n",
              "        fill: #174EA6;\n",
              "      }\n",
              "\n",
              "      [theme=dark] .colab-df-generate {\n",
              "        background-color: #3B4455;\n",
              "        fill: #D2E3FC;\n",
              "      }\n",
              "\n",
              "      [theme=dark] .colab-df-generate:hover {\n",
              "        background-color: #434B5C;\n",
              "        box-shadow: 0px 1px 3px 1px rgba(0, 0, 0, 0.15);\n",
              "        filter: drop-shadow(0px 1px 2px rgba(0, 0, 0, 0.3));\n",
              "        fill: #FFFFFF;\n",
              "      }\n",
              "    </style>\n",
              "    <button class=\"colab-df-generate\" onclick=\"generateWithVariable('survival_table')\"\n",
              "            title=\"Generate code using this dataframe.\"\n",
              "            style=\"display:none;\">\n",
              "\n",
              "  <svg xmlns=\"http://www.w3.org/2000/svg\" height=\"24px\"viewBox=\"0 0 24 24\"\n",
              "       width=\"24px\">\n",
              "    <path d=\"M7,19H8.4L18.45,9,17,7.55,7,17.6ZM5,21V16.75L18.45,3.32a2,2,0,0,1,2.83,0l1.4,1.43a1.91,1.91,0,0,1,.58,1.4,1.91,1.91,0,0,1-.58,1.4L9.25,21ZM18.45,9,17,7.55Zm-12,3A5.31,5.31,0,0,0,4.9,8.1,5.31,5.31,0,0,0,1,6.5,5.31,5.31,0,0,0,4.9,4.9,5.31,5.31,0,0,0,6.5,1,5.31,5.31,0,0,0,8.1,4.9,5.31,5.31,0,0,0,12,6.5,5.46,5.46,0,0,0,6.5,12Z\"/>\n",
              "  </svg>\n",
              "    </button>\n",
              "    <script>\n",
              "      (() => {\n",
              "      const buttonEl =\n",
              "        document.querySelector('#id_fca92cca-5d1e-4da2-93eb-5efefba49b43 button.colab-df-generate');\n",
              "      buttonEl.style.display =\n",
              "        google.colab.kernel.accessAllowed ? 'block' : 'none';\n",
              "\n",
              "      buttonEl.onclick = () => {\n",
              "        google.colab.notebook.generateWithVariable('survival_table');\n",
              "      }\n",
              "      })();\n",
              "    </script>\n",
              "  </div>\n",
              "\n",
              "    </div>\n",
              "  </div>\n"
            ],
            "application/vnd.google.colaboratory.intrinsic+json": {
              "type": "dataframe",
              "variable_name": "survival_table",
              "summary": "{\n  \"name\": \"survival_table\",\n  \"rows\": 2,\n  \"fields\": [\n    {\n      \"column\": \"Survived\",\n      \"properties\": {\n        \"dtype\": \"string\",\n        \"num_unique_values\": 2,\n        \"samples\": [\n          \"Selamat\",\n          \"Tidak Selamat\"\n        ],\n        \"semantic_type\": \"\",\n        \"description\": \"\"\n      }\n    },\n    {\n      \"column\": \"Jumlah Penumpang\",\n      \"properties\": {\n        \"dtype\": \"number\",\n        \"std\": 146,\n        \"min\": 342,\n        \"max\": 549,\n        \"num_unique_values\": 2,\n        \"samples\": [\n          342,\n          549\n        ],\n        \"semantic_type\": \"\",\n        \"description\": \"\"\n      }\n    }\n  ]\n}"
            }
          },
          "metadata": {},
          "execution_count": 4
        }
      ]
    },
    {
      "cell_type": "markdown",
      "source": [
        "b. Dari data tersebut terdapat penumpang yang selamat  sebanyak 342 dan penumpang yang tidak selamat sebanyak 549"
      ],
      "metadata": {
        "id": "b_M9x8TChTy6"
      }
    },
    {
      "cell_type": "code",
      "source": [
        "# Rata-rata umur penumpang\n",
        "rata_rata_umur = data['Age'].mean()\n",
        "\n",
        "# Penumpang termuda\n",
        "penumpang_termuda = data[data['Age'] == data['Age'].min()][['Name', 'Age']]\n",
        "\n",
        "# Penumpang tertua\n",
        "penumpang_tertua = data[data['Age'] == data['Age'].max()][['Name', 'Age']]\n",
        "\n",
        "rata_rata_umur, penumpang_termuda, penumpang_tertua\n"
      ],
      "metadata": {
        "colab": {
          "base_uri": "https://localhost:8080/"
        },
        "id": "cVzoVSlyZx1S",
        "outputId": "261d725d-71c1-482d-c73e-e7df1676728c"
      },
      "execution_count": 5,
      "outputs": [
        {
          "output_type": "execute_result",
          "data": {
            "text/plain": [
              "(np.float64(29.69911764705882),\n",
              "                                 Name   Age\n",
              " 803  Thomas, Master. Assad Alexander  0.42,\n",
              "                                      Name   Age\n",
              " 630  Barkworth, Mr. Algernon Henry Wilson  80.0)"
            ]
          },
          "metadata": {},
          "execution_count": 5
        }
      ]
    },
    {
      "cell_type": "markdown",
      "source": [
        "c. Dari data tersebut dapat di ketahui bahwa rata-rata umur penumpang dalam kapal titanic adalah 29-30 tahun dan Dan penumpang termuda adalah Thomas, Masster.Assad Alexander yang berumur sekitar 5 bulan (0,42) dan penumpang tertua adalah Barkworth, Mr. Algernon Henry Wilson yang memiliki usia 80 tahun"
      ],
      "metadata": {
        "id": "XYCjZDXjhjnp"
      }
    },
    {
      "cell_type": "code",
      "source": [
        "# Hitung jumlah penumpang yang selamat dan tidak selamat\n",
        "survival_counts = data['Sex'].value_counts().rename(index={0: 'male', 1: 'female'})\n",
        "\n",
        "# Tabel\n",
        "survival_table = survival_counts.to_frame(name='Jumlah penumpang')\n",
        "\n",
        "# Visualisasi\n",
        "plt.figure(figsize=(6, 4))\n",
        "sns.barplot(x=survival_counts.index, y=survival_counts.values, palette='Set2')\n",
        "plt.title('Jumlah Penumpang berdasarkan jenis kelamin')\n",
        "plt.ylabel('Jumlah Penumpang')\n",
        "plt.xlabel('Status')\n",
        "plt.tight_layout()\n",
        "plt.grid(True, axis='y')\n",
        "plt.show()\n",
        "\n",
        "survival_table\n"
      ],
      "metadata": {
        "colab": {
          "base_uri": "https://localhost:8080/",
          "height": 640
        },
        "id": "To-IQCgmb0TG",
        "outputId": "a36b1872-790c-45d5-91e2-ffc31f978f8d"
      },
      "execution_count": 6,
      "outputs": [
        {
          "output_type": "stream",
          "name": "stderr",
          "text": [
            "<ipython-input-6-9d65a3a3af38>:9: FutureWarning: \n",
            "\n",
            "Passing `palette` without assigning `hue` is deprecated and will be removed in v0.14.0. Assign the `x` variable to `hue` and set `legend=False` for the same effect.\n",
            "\n",
            "  sns.barplot(x=survival_counts.index, y=survival_counts.values, palette='Set2')\n"
          ]
        },
        {
          "output_type": "display_data",
          "data": {
            "text/plain": [
              "<Figure size 600x400 with 1 Axes>"
            ],
            "image/png": "[encoded data removed]"
          },
          "metadata": {}
        },
        {
          "output_type": "execute_result",
          "data": {
            "text/plain": [
              "        Jumlah penumpang\n",
              "Sex                     \n",
              "male                 577\n",
              "female               314"
            ],
            "text/html": [
              "\n",
              "  <div id=\"df-f4041369-13ca-4212-9f7e-24c5e9566ba3\" class=\"colab-df-container\">\n",
              "    <div>\n",
              "<style scoped>\n",
              "    .dataframe tbody tr th:only-of-type {\n",
              "        vertical-align: middle;\n",
              "    }\n",
              "\n",
              "    .dataframe tbody tr th {\n",
              "        vertical-align: top;\n",
              "    }\n",
              "\n",
              "    .dataframe thead th {\n",
              "        text-align: right;\n",
              "    }\n",
              "</style>\n",
              "<table border=\"1\" class=\"dataframe\">\n",
              "  <thead>\n",
              "    <tr style=\"text-align: right;\">\n",
              "      <th></th>\n",
              "      <th>Jumlah penumpang</th>\n",
              "    </tr>\n",
              "    <tr>\n",
              "      <th>Sex</th>\n",
              "      <th></th>\n",
              "    </tr>\n",
              "  </thead>\n",
              "  <tbody>\n",
              "    <tr>\n",
              "      <th>male</th>\n",
              "      <td>577</td>\n",
              "    </tr>\n",
              "    <tr>\n",
              "      <th>female</th>\n",
              "      <td>314</td>\n",
              "    </tr>\n",
              "  </tbody>\n",
              "</table>\n",
              "</div>\n",
              "    <div class=\"colab-df-buttons\">\n",
              "\n",
              "  <div class=\"colab-df-container\">\n",
              "    <button class=\"colab-df-convert\" onclick=\"convertToInteractive('df-f4041369-13ca-4212-9f7e-24c5e9566ba3')\"\n",
              "            title=\"Convert this dataframe to an interactive table.\"\n",
              "            style=\"display:none;\">\n",
              "\n",
              "  <svg xmlns=\"http://www.w3.org/2000/svg\" height=\"24px\" viewBox=\"0 -960 960 960\">\n",
              "    <path d=\"M120-120v-720h720v720H120Zm60-500h600v-160H180v160Zm220 220h160v-160H400v160Zm0 220h160v-160H400v160ZM180-400h160v-160H180v160Zm440 0h160v-160H620v160ZM180-180h160v-160H180v160Zm440 0h160v-160H620v160Z\"/>\n",
              "  </svg>\n",
              "    </button>\n",
              "\n",
              "  <style>\n",
              "    .colab-df-container {\n",
              "      display:flex;\n",
              "      gap: 12px;\n",
              "    }\n",
              "\n",
              "    .colab-df-convert {\n",
              "      background-color: #E8F0FE;\n",
              "      border: none;\n",
              "      border-radius: 50%;\n",
              "      cursor: pointer;\n",
              "      display: none;\n",
              "      fill: #1967D2;\n",
              "      height: 32px;\n",
              "      padding: 0 0 0 0;\n",
              "      width: 32px;\n",
              "    }\n",
              "\n",
              "    .colab-df-convert:hover {\n",
              "      background-color: #E2EBFA;\n",
              "      box-shadow: 0px 1px 2px rgba(60, 64, 67, 0.3), 0px 1px 3px 1px rgba(60, 64, 67, 0.15);\n",
              "      fill: #174EA6;\n",
              "    }\n",
              "\n",
              "    .colab-df-buttons div {\n",
              "      margin-bottom: 4px;\n",
              "    }\n",
              "\n",
              "    [theme=dark] .colab-df-convert {\n",
              "      background-color: #3B4455;\n",
              "      fill: #D2E3FC;\n",
              "    }\n",
              "\n",
              "    [theme=dark] .colab-df-convert:hover {\n",
              "      background-color: #434B5C;\n",
              "      box-shadow: 0px 1px 3px 1px rgba(0, 0, 0, 0.15);\n",
              "      filter: drop-shadow(0px 1px 2px rgba(0, 0, 0, 0.3));\n",
              "      fill: #FFFFFF;\n",
              "    }\n",
              "  </style>\n",
              "\n",
              "    <script>\n",
              "      const buttonEl =\n",
              "        document.querySelector('#df-f4041369-13ca-4212-9f7e-24c5e9566ba3 button.colab-df-convert');\n",
              "      buttonEl.style.display =\n",
              "        google.colab.kernel.accessAllowed ? 'block' : 'none';\n",
              "\n",
              "      async function convertToInteractive(key) {\n",
              "        const element = document.querySelector('#df-f4041369-13ca-4212-9f7e-24c5e9566ba3');\n",
              "        const dataTable =\n",
              "          await google.colab.kernel.invokeFunction('convertToInteractive',\n",
              "                                                    [key], {});\n",
              "        if (!dataTable) return;\n",
              "\n",
              "        const docLinkHtml = 'Like what you see? Visit the ' +\n",
              "          '<a target=\"_blank\" href=https://colab.research.google.com/notebooks/data_table.ipynb>data table notebook</a>'\n",
              "          + ' to learn more about interactive tables.';\n",
              "        element.innerHTML = '';\n",
              "        dataTable['output_type'] = 'display_data';\n",
              "        await google.colab.output.renderOutput(dataTable, element);\n",
              "        const docLink = document.createElement('div');\n",
              "        docLink.innerHTML = docLinkHtml;\n",
              "        element.appendChild(docLink);\n",
              "      }\n",
              "    </script>\n",
              "  </div>\n",
              "\n",
              "\n",
              "<div id=\"df-2e7b5f56-cd8c-44e6-b488-a3aa2201d898\">\n",
              "  <button class=\"colab-df-quickchart\" onclick=\"quickchart('df-2e7b5f56-cd8c-44e6-b488-a3aa2201d898')\"\n",
              "            title=\"Suggest charts\"\n",
              "            style=\"display:none;\">\n",
              "\n",
              "<svg xmlns=\"http://www.w3.org/2000/svg\" height=\"24px\"viewBox=\"0 0 24 24\"\n",
              "     width=\"24px\">\n",
              "    <g>\n",
              "        <path d=\"M19 3H5c-1.1 0-2 .9-2 2v14c0 1.1.9 2 2 2h14c1.1 0 2-.9 2-2V5c0-1.1-.9-2-2-2zM9 17H7v-7h2v7zm4 0h-2V7h2v10zm4 0h-2v-4h2v4z\"/>\n",
              "    </g>\n",
              "</svg>\n",
              "  </button>\n",
              "\n",
              "<style>\n",
              "  .colab-df-quickchart {\n",
              "      --bg-color: #E8F0FE;\n",
              "      --fill-color: #1967D2;\n",
              "      --hover-bg-color: #E2EBFA;\n",
              "      --hover-fill-color: #174EA6;\n",
              "      --disabled-fill-color: #AAA;\n",
              "      --disabled-bg-color: #DDD;\n",
              "  }\n",
              "\n",
              "  [theme=dark] .colab-df-quickchart {\n",
              "      --bg-color: #3B4455;\n",
              "      --fill-color: #D2E3FC;\n",
              "      --hover-bg-color: #434B5C;\n",
              "      --hover-fill-color: #FFFFFF;\n",
              "      --disabled-bg-color: #3B4455;\n",
              "      --disabled-fill-color: #666;\n",
              "  }\n",
              "\n",
              "  .colab-df-quickchart {\n",
              "    background-color: var(--bg-color);\n",
              "    border: none;\n",
              "    border-radius: 50%;\n",
              "    cursor: pointer;\n",
              "    display: none;\n",
              "    fill: var(--fill-color);\n",
              "    height: 32px;\n",
              "    padding: 0;\n",
              "    width: 32px;\n",
              "  }\n",
              "\n",
              "  .colab-df-quickchart:hover {\n",
              "    background-color: var(--hover-bg-color);\n",
              "    box-shadow: 0 1px 2px rgba(60, 64, 67, 0.3), 0 1px 3px 1px rgba(60, 64, 67, 0.15);\n",
              "    fill: var(--button-hover-fill-color);\n",
              "  }\n",
              "\n",
              "  .colab-df-quickchart-complete:disabled,\n",
              "  .colab-df-quickchart-complete:disabled:hover {\n",
              "    background-color: var(--disabled-bg-color);\n",
              "    fill: var(--disabled-fill-color);\n",
              "    box-shadow: none;\n",
              "  }\n",
              "\n",
              "  .colab-df-spinner {\n",
              "    border: 2px solid var(--fill-color);\n",
              "    border-color: transparent;\n",
              "    border-bottom-color: var(--fill-color);\n",
              "    animation:\n",
              "      spin 1s steps(1) infinite;\n",
              "  }\n",
              "\n",
              "  @keyframes spin {\n",
              "    0% {\n",
              "      border-color: transparent;\n",
              "      border-bottom-color: var(--fill-color);\n",
              "      border-left-color: var(--fill-color);\n",
              "    }\n",
              "    20% {\n",
              "      border-color: transparent;\n",
              "      border-left-color: var(--fill-color);\n",
              "      border-top-color: var(--fill-color);\n",
              "    }\n",
              "    30% {\n",
              "      border-color: transparent;\n",
              "      border-left-color: var(--fill-color);\n",
              "      border-top-color: var(--fill-color);\n",
              "      border-right-color: var(--fill-color);\n",
              "    }\n",
              "    40% {\n",
              "      border-color: transparent;\n",
              "      border-right-color: var(--fill-color);\n",
              "      border-top-color: var(--fill-color);\n",
              "    }\n",
              "    60% {\n",
              "      border-color: transparent;\n",
              "      border-right-color: var(--fill-color);\n",
              "    }\n",
              "    80% {\n",
              "      border-color: transparent;\n",
              "      border-right-color: var(--fill-color);\n",
              "      border-bottom-color: var(--fill-color);\n",
              "    }\n",
              "    90% {\n",
              "      border-color: transparent;\n",
              "      border-bottom-color: var(--fill-color);\n",
              "    }\n",
              "  }\n",
              "</style>\n",
              "\n",
              "  <script>\n",
              "    async function quickchart(key) {\n",
              "      const quickchartButtonEl =\n",
              "        document.querySelector('#' + key + ' button');\n",
              "      quickchartButtonEl.disabled = true;  // To prevent multiple clicks.\n",
              "      quickchartButtonEl.classList.add('colab-df-spinner');\n",
              "      try {\n",
              "        const charts = await google.colab.kernel.invokeFunction(\n",
              "            'suggestCharts', [key], {});\n",
              "      } catch (error) {\n",
              "        console.error('Error during call to suggestCharts:', error);\n",
              "      }\n",
              "      quickchartButtonEl.classList.remove('colab-df-spinner');\n",
              "      quickchartButtonEl.classList.add('colab-df-quickchart-complete');\n",
              "    }\n",
              "    (() => {\n",
              "      let quickchartButtonEl =\n",
              "        document.querySelector('#df-2e7b5f56-cd8c-44e6-b488-a3aa2201d898 button');\n",
              "      quickchartButtonEl.style.display =\n",
              "        google.colab.kernel.accessAllowed ? 'block' : 'none';\n",
              "    })();\n",
              "  </script>\n",
              "</div>\n",
              "\n",
              "  <div id=\"id_420803a3-66c0-4443-b12e-8a2275f8f985\">\n",
              "    <style>\n",
              "      .colab-df-generate {\n",
              "        background-color: #E8F0FE;\n",
              "        border: none;\n",
              "        border-radius: 50%;\n",
              "        cursor: pointer;\n",
              "        display: none;\n",
              "        fill: #1967D2;\n",
              "        height: 32px;\n",
              "        padding: 0 0 0 0;\n",
              "        width: 32px;\n",
              "      }\n",
              "\n",
              "      .colab-df-generate:hover {\n",
              "        background-color: #E2EBFA;\n",
              "        box-shadow: 0px 1px 2px rgba(60, 64, 67, 0.3), 0px 1px 3px 1px rgba(60, 64, 67, 0.15);\n",
              "        fill: #174EA6;\n",
              "      }\n",
              "\n",
              "      [theme=dark] .colab-df-generate {\n",
              "        background-color: #3B4455;\n",
              "        fill: #D2E3FC;\n",
              "      }\n",
              "\n",
              "      [theme=dark] .colab-df-generate:hover {\n",
              "        background-color: #434B5C;\n",
              "        box-shadow: 0px 1px 3px 1px rgba(0, 0, 0, 0.15);\n",
              "        filter: drop-shadow(0px 1px 2px rgba(0, 0, 0, 0.3));\n",
              "        fill: #FFFFFF;\n",
              "      }\n",
              "    </style>\n",
              "    <button class=\"colab-df-generate\" onclick=\"generateWithVariable('survival_table')\"\n",
              "            title=\"Generate code using this dataframe.\"\n",
              "            style=\"display:none;\">\n",
              "\n",
              "  <svg xmlns=\"http://www.w3.org/2000/svg\" height=\"24px\"viewBox=\"0 0 24 24\"\n",
              "       width=\"24px\">\n",
              "    <path d=\"M7,19H8.4L18.45,9,17,7.55,7,17.6ZM5,21V16.75L18.45,3.32a2,2,0,0,1,2.83,0l1.4,1.43a1.91,1.91,0,0,1,.58,1.4,1.91,1.91,0,0,1-.58,1.4L9.25,21ZM18.45,9,17,7.55Zm-12,3A5.31,5.31,0,0,0,4.9,8.1,5.31,5.31,0,0,0,1,6.5,5.31,5.31,0,0,0,4.9,4.9,5.31,5.31,0,0,0,6.5,1,5.31,5.31,0,0,0,8.1,4.9,5.31,5.31,0,0,0,12,6.5,5.46,5.46,0,0,0,6.5,12Z\"/>\n",
              "  </svg>\n",
              "    </button>\n",
              "    <script>\n",
              "      (() => {\n",
              "      const buttonEl =\n",
              "        document.querySelector('#id_420803a3-66c0-4443-b12e-8a2275f8f985 button.colab-df-generate');\n",
              "      buttonEl.style.display =\n",
              "        google.colab.kernel.accessAllowed ? 'block' : 'none';\n",
              "\n",
              "      buttonEl.onclick = () => {\n",
              "        google.colab.notebook.generateWithVariable('survival_table');\n",
              "      }\n",
              "      })();\n",
              "    </script>\n",
              "  </div>\n",
              "\n",
              "    </div>\n",
              "  </div>\n"
            ],
            "application/vnd.google.colaboratory.intrinsic+json": {
              "type": "dataframe",
              "variable_name": "survival_table",
              "summary": "{\n  \"name\": \"survival_table\",\n  \"rows\": 2,\n  \"fields\": [\n    {\n      \"column\": \"Sex\",\n      \"properties\": {\n        \"dtype\": \"string\",\n        \"num_unique_values\": 2,\n        \"samples\": [\n          \"female\",\n          \"male\"\n        ],\n        \"semantic_type\": \"\",\n        \"description\": \"\"\n      }\n    },\n    {\n      \"column\": \"Jumlah penumpang\",\n      \"properties\": {\n        \"dtype\": \"number\",\n        \"std\": 185,\n        \"min\": 314,\n        \"max\": 577,\n        \"num_unique_values\": 2,\n        \"samples\": [\n          314,\n          577\n        ],\n        \"semantic_type\": \"\",\n        \"description\": \"\"\n      }\n    }\n  ]\n}"
            }
          },
          "metadata": {},
          "execution_count": 6
        }
      ]
    },
    {
      "cell_type": "markdown",
      "source": [
        "d. Jumlah penumpang berdasarkan jenis kelamin yaitu sebanyak 577 laki-laki dan 314 perempuan dari sini kita bisa melihat bahwa yang paling banyak penumpang di dalam kapal titanic ini adalah laki-laki"
      ],
      "metadata": {
        "id": "gOPXjCGhjXub"
      }
    },
    {
      "cell_type": "code",
      "source": [
        "# Menghitung jumlah penumpang berdasarkan kelas\n",
        "jumlah_per_kelas = data['Pclass'].value_counts().sort_index()\n",
        "\n",
        "# Menghitung persentase penumpang yang berada di kelas 1\n",
        "persentase_kelas_1 = (jumlah_per_kelas[1] / len(data)) * 100\n",
        "\n",
        "# Menampilkan hasil\n",
        "print(\"Jumlah penumpang berdasarkan kelas:\")\n",
        "print(jumlah_per_kelas)\n",
        "print(f\"\\nPersentase penumpang yang berada di kelas 1: {persentase_kelas_1:.2f}%\")\n"
      ],
      "metadata": {
        "colab": {
          "base_uri": "https://localhost:8080/"
        },
        "id": "hebSkEFuaHcU",
        "outputId": "0bad8d5d-4393-4f61-b1a1-27d33feff9cf"
      },
      "execution_count": 7,
      "outputs": [
        {
          "output_type": "stream",
          "name": "stdout",
          "text": [
            "Jumlah penumpang berdasarkan kelas:\n",
            "Pclass\n",
            "1    216\n",
            "2    184\n",
            "3    491\n",
            "Name: count, dtype: int64\n",
            "\n",
            "Persentase penumpang yang berada di kelas 1: 24.24%\n"
          ]
        }
      ]
    },
    {
      "cell_type": "markdown",
      "source": [
        "e. Jumlah penumpang di dalam pclass yaitu ada 3 yang mana kelas satu ada sebanyak 216 penumpang kelas 2 terdapat 184 penumpang dan kelas 3 terdapat 491 orang. dan terdapat 24,24 % yang ada di kelas 1"
      ],
      "metadata": {
        "id": "R1BM8dPijvei"
      }
    },
    {
      "cell_type": "code",
      "source": [
        "# 2. Prepocessing Data\n",
        "# Missing value\n",
        "print(\"Missing values per column:\")\n",
        "print(data.isnull().sum())"
      ],
      "metadata": {
        "colab": {
          "base_uri": "https://localhost:8080/"
        },
        "id": "uBhcaMvCgpks",
        "outputId": "723ef201-530c-4209-fc5a-13e3cc83a61a"
      },
      "execution_count": 8,
      "outputs": [
        {
          "output_type": "stream",
          "name": "stdout",
          "text": [
            "Missing values per column:\n",
            "PassengerId      0\n",
            "Survived         0\n",
            "Pclass           0\n",
            "Name             0\n",
            "Sex              0\n",
            "Age            177\n",
            "SibSp            0\n",
            "Parch            0\n",
            "Ticket           0\n",
            "Fare             0\n",
            "Cabin          687\n",
            "Embarked         2\n",
            "dtype: int64\n"
          ]
        }
      ]
    },
    {
      "cell_type": "markdown",
      "source": [
        "2 a. Dari  data tersebut dapat saya temukan missing value di  kolom Age sebanyak 177 baris dan cabin sebanyak 687 baris serta kolom embarked sebanyak 2 baris"
      ],
      "metadata": {
        "id": "lH0yk0rTkc7D"
      }
    },
    {
      "cell_type": "code",
      "source": [
        "#Mengisi missing Value\n",
        "data['Age'].fillna(data['Age'].mean(), inplace=True)\n",
        "data['Cabin'].fillna('Unknown', inplace=True)\n",
        "data['Embarked'].fillna(data['Embarked'].mode()[0], inplace=True)\n",
        "print(\"Jumlah missing value setelah ditangani:\")\n",
        "print(data[['Age', 'Cabin', 'Embarked']].isnull().sum())\n"
      ],
      "metadata": {
        "colab": {
          "base_uri": "https://localhost:8080/"
        },
        "id": "ZDkKTbqnkb40",
        "outputId": "d5432179-5007-40f6-a6f6-aa24ad9747b8"
      },
      "execution_count": 9,
      "outputs": [
        {
          "output_type": "stream",
          "name": "stdout",
          "text": [
            "Jumlah missing value setelah ditangani:\n",
            "Age         0\n",
            "Cabin       0\n",
            "Embarked    0\n",
            "dtype: int64\n"
          ]
        },
        {
          "output_type": "stream",
          "name": "stderr",
          "text": [
            "<ipython-input-9-a374e758c1e3>:2: FutureWarning: A value is trying to be set on a copy of a DataFrame or Series through chained assignment using an inplace method.\n",
            "The behavior will change in pandas 3.0. This inplace method will never work because the intermediate object on which we are setting values always behaves as a copy.\n",
            "\n",
            "For example, when doing 'df[col].method(value, inplace=True)', try using 'df.method({col: value}, inplace=True)' or df[col] = df[col].method(value) instead, to perform the operation inplace on the original object.\n",
            "\n",
            "\n",
            "  data['Age'].fillna(data['Age'].mean(), inplace=True)\n",
            "<ipython-input-9-a374e758c1e3>:3: FutureWarning: A value is trying to be set on a copy of a DataFrame or Series through chained assignment using an inplace method.\n",
            "The behavior will change in pandas 3.0. This inplace method will never work because the intermediate object on which we are setting values always behaves as a copy.\n",
            "\n",
            "For example, when doing 'df[col].method(value, inplace=True)', try using 'df.method({col: value}, inplace=True)' or df[col] = df[col].method(value) instead, to perform the operation inplace on the original object.\n",
            "\n",
            "\n",
            "  data['Cabin'].fillna('Unknown', inplace=True)\n",
            "<ipython-input-9-a374e758c1e3>:4: FutureWarning: A value is trying to be set on a copy of a DataFrame or Series through chained assignment using an inplace method.\n",
            "The behavior will change in pandas 3.0. This inplace method will never work because the intermediate object on which we are setting values always behaves as a copy.\n",
            "\n",
            "For example, when doing 'df[col].method(value, inplace=True)', try using 'df.method({col: value}, inplace=True)' or df[col] = df[col].method(value) instead, to perform the operation inplace on the original object.\n",
            "\n",
            "\n",
            "  data['Embarked'].fillna(data['Embarked'].mode()[0], inplace=True)\n"
          ]
        }
      ]
    },
    {
      "cell_type": "markdown",
      "source": [
        "b.  karena terdapat missing value saya menangani dengan untuk kolom umur saya isi dengan median, untuk kolom kabin missing value saya isi dengan Unknown dan untuk kolom embarked saya isi dengan modus"
      ],
      "metadata": {
        "id": "Tpu7bFUOmcmt"
      }
    },
    {
      "cell_type": "code",
      "source": [
        "import numpy as np\n",
        "kolom_numerik = ['Age', 'Fare']\n",
        "for kolom in kolom_numerik:\n",
        "    Q1 = data[kolom].quantile(0.25)\n",
        "    Q3 = data[kolom].quantile(0.75)\n",
        "    IQR = Q3 - Q1\n",
        "    lower_bound = Q1 - 1.5 * IQR\n",
        "    upper_bound = Q3 + 1.5 * IQR\n",
        "    outliers = data[(data[kolom] < lower_bound) | (data[kolom] > upper_bound)]\n",
        "\n",
        "    print(f\"\\nKolom: {kolom}\")\n",
        "    print(f\"Jumlah outlier: {len(outliers)}\")\n",
        "    print(f\"Rentang normal: [{lower_bound:.2f}, {upper_bound:.2f}]\")\n"
      ],
      "metadata": {
        "colab": {
          "base_uri": "https://localhost:8080/"
        },
        "id": "F7NCizjzmMxj",
        "outputId": "05271138-a140-40d9-97c8-57e0c239411a"
      },
      "execution_count": 10,
      "outputs": [
        {
          "output_type": "stream",
          "name": "stdout",
          "text": [
            "\n",
            "Kolom: Age\n",
            "Jumlah outlier: 66\n",
            "Rentang normal: [2.50, 54.50]\n",
            "\n",
            "Kolom: Fare\n",
            "Jumlah outlier: 116\n",
            "Rentang normal: [-26.72, 65.63]\n"
          ]
        }
      ]
    },
    {
      "cell_type": "code",
      "source": [
        "import matplotlib.pyplot as plt\n",
        "import seaborn as sns\n",
        "\n",
        "sns.set(style=\"whitegrid\")\n",
        "\n",
        "plt.figure(figsize=(12, 5))\n",
        "\n",
        "plt.subplot(1, 2, 1)\n",
        "sns.boxplot(y=data['Age'], color='skyblue')\n",
        "plt.title('Boxplot Umur (Age)')\n",
        "\n",
        "plt.subplot(1, 2, 2)\n",
        "sns.boxplot(y=data['Fare'], color='salmon')\n",
        "plt.title('Boxplot Harga Tiket (Fare)')\n",
        "\n",
        "plt.tight_layout()\n",
        "plt.show()\n"
      ],
      "metadata": {
        "colab": {
          "base_uri": "https://localhost:8080/",
          "height": 402
        },
        "id": "x8urgD3LnWc7",
        "outputId": "cfffc1ce-2d01-4315-d159-04d0d03e0293"
      },
      "execution_count": 11,
      "outputs": [
        {
          "output_type": "display_data",
          "data": {
            "text/plain": [
              "<Figure size 1200x500 with 2 Axes>"
            ],
            "image/png": "[encoded data removed]"
          },
          "metadata": {}
        }
      ]
    },
    {
      "cell_type": "markdown",
      "source": [
        "c. terdapat outlier pada data tersebut untuk kolom age terdapat outlier pada\n",
        "di sisi bawah dengan usia sekitar 0-5 tahun dan di sisi atas sekitar usia 60 - 80 tahun\n",
        "Untuk kolom fare, ditemukan terdapat banyak outlier dengan harga tiket yang cukup tinggi yaitu melebihi dari 100 ini menunjukkan distribusi  yang tidak seimbang banyak nilai kecil, sedikit nilai sangat besar.\n",
        "Outlier adalah  sebuah titik data yang nilainya jauh berbeda dari nilai-nilai data lainnya dalam suatu kumpulan data.\n",
        "d. Menurut saya untuk data Age tidak perlu di atasi penanganan outlier karena menurut saya akan membantu melatih model. untuk data fare mungkin saya akan mencoba untuk menangani nya karena di khawatirkan nilai yang sangat tinggi dapan mempengaruhi model"
      ],
      "metadata": {
        "id": "XxZs3siQoWrJ"
      }
    },
    {
      "source": [
        "# 2d. Melakukan penanganan Outlier dengan Tansformasi\n",
        "import numpy as np\n",
        "data['Fare_log'] = np.log1p(data['Fare'])\n",
        "import seaborn as sns\n",
        "import matplotlib.pyplot as plt\n",
        "\n",
        "plt.figure(figsize=(6, 5))\n",
        "sns.boxplot(y=data['Fare_log'], color='lightgreen')\n",
        "plt.title('Boxplot Fare Setelah Log Transformasi')\n",
        "plt.ylabel('log(Fare + 1)')\n",
        "plt.show()"
      ],
      "cell_type": "code",
      "metadata": {
        "colab": {
          "base_uri": "https://localhost:8080/",
          "height": 444
        },
        "id": "uVt5RCEZqze7",
        "outputId": "f0d9c074-e31d-41c1-c7c2-f99e00460072"
      },
      "execution_count": 12,
      "outputs": [
        {
          "output_type": "display_data",
          "data": {
            "text/plain": [
              "<Figure size 600x500 with 1 Axes>"
            ],
            "image/png": "[encoded data removed]"
          },
          "metadata": {}
        }
      ]
    },
    {
      "cell_type": "code",
      "source": [
        "import pandas as pd\n",
        "from sklearn.model_selection import train_test_split\n",
        "from sklearn.preprocessing import StandardScaler\n",
        "data = data.drop(columns=['PassengerId', 'Name', 'Ticket', 'Cabin'])\n",
        "data = pd.get_dummies(data, columns=['Sex', 'Embarked'], drop_first=True)\n",
        "X = data.drop('Survived', axis=1)\n",
        "y = data['Survived']\n",
        "scaler = StandardScaler()\n",
        "X_scaled = scaler.fit_transform(X)\n",
        "X_train, X_test, y_train, y_test = train_test_split(\n",
        "    X_scaled, y, test_size=0.2, random_state=42, stratify=y\n",
        ")\n"
      ],
      "metadata": {
        "id": "fxHZCkq5vP-f"
      },
      "execution_count": 13,
      "outputs": []
    },
    {
      "cell_type": "markdown",
      "source": [],
      "metadata": {
        "id": "QtIUnyZ1tMQ1"
      }
    },
    {
      "cell_type": "code",
      "source": [
        "# Modelling\n",
        "from sklearn.model_selection import train_test_split\n",
        "X = data.drop(columns=['Survived'])\n",
        "y = data['Survived']\n",
        "\n",
        "# Bagi data: 80% training, 20% testing\n",
        "X_train, X_test, y_train, y_test = train_test_split(\n",
        "    X, y, test_size=0.2, random_state=42, stratify=y\n",
        ")\n",
        "\n",
        "# Tampilkan info hasil pembagian\n",
        "print(\"Jumlah data training:\", X_train.shape[0])\n",
        "print(\"Jumlah data testing :\", X_test.shape[0])\n"
      ],
      "metadata": {
        "colab": {
          "base_uri": "https://localhost:8080/"
        },
        "id": "IiYHbO-MrgIL",
        "outputId": "b4cb40b4-228d-41dc-d0d9-8de9b8eb2032"
      },
      "execution_count": null,
      "outputs": [
        {
          "output_type": "stream",
          "name": "stdout",
          "text": [
            "Jumlah data training: 712\n",
            "Jumlah data testing : 179\n"
          ]
        }
      ]
    },
    {
      "cell_type": "markdown",
      "source": [
        "3 a. Disini saya membagi data menjadi dua yaitu data training, dan data testing Alasan mengapa perlu membagi data tersebut yaitu data training digunakan untuk latihan dan data testing di gunakan untuk di uji data ini di bagi agar model belajar pola bukan menghafal, jadi hasil evaluasinya kita bisa tahu seberapa baik model akan bekerja untuk data baru.\n",
        " b. Untuk proporsi pembagian nya saya memilih 80% data training dan 20% data testing karena dengan proporsi 80% untuk data training memberi cukup variasi data agar model bisa belajar pola-pola penting. dan 20% untuk data testing biasanya sudah representatif untuk melihat performa model.  "
      ],
      "metadata": {
        "id": "M3e5Azw_uD8y"
      }
    },
    {
      "cell_type": "code",
      "source": [
        "#Evaluasi Model\n",
        "from sklearn.linear_model import LogisticRegression\n",
        "from sklearn.ensemble import RandomForestClassifier\n",
        "from sklearn.neighbors import KNeighborsClassifier\n",
        "from sklearn.metrics import classification_report, accuracy_score\n"
      ],
      "metadata": {
        "id": "FulyWfBUulZa"
      },
      "execution_count": 15,
      "outputs": []
    },
    {
      "cell_type": "code",
      "source": [
        "# --- Logistic Regression ---\n",
        "log_model = LogisticRegression(max_iter=1000)\n",
        "log_model.fit(X_train, y_train)\n",
        "y_pred_log = log_model.predict(X_test)\n",
        "\n",
        "# --- Random Forest ---\n",
        "rf_model = RandomForestClassifier(random_state=42)\n",
        "rf_model.fit(X_train, y_train)\n",
        "y_pred_rf = rf_model.predict(X_test)\n",
        "\n",
        "# --- K-Nearest Neighbors (KNN) ---\n",
        "knn_model = KNeighborsClassifier(n_neighbors=5)  # default 5 tetangga\n",
        "knn_model.fit(X_train, y_train)\n",
        "y_pred_knn = knn_model.predict(X_test)\n"
      ],
      "metadata": {
        "id": "dGhEJKNFuokb"
      },
      "execution_count": 16,
      "outputs": []
    },
    {
      "cell_type": "markdown",
      "source": [
        "c. disini saya mencoba modelling dengan menggunakan 3 macam jenis yaitu Logistic Regression, Random Forest, dan K-Nearest Neighbors\n",
        "- Logistic Regression adalah model klasifikasi yang digunakan untuk memprediksi probabilitas dari dua kelas (binary classification), cara kerjanya Menggunakan fungsi logistik (sigmoid) untuk mengubah hasil prediksi menjadi nilai probabilitas antara 0 dan 1.\n",
        "Jika probabilitas > 0.5 → diprediksi kelas 1 (selamat), jika tidak → kelas 0 (tidak selamat).\n",
        "- Random Forest adalah model klasifikasi berbasis ensemble learning yang membangun banyak pohon keputusan (decision tree) dan menggabungkan hasilnya. untuk cara kerjanya Membuat banyak decision tree dari subset data yang berbeda (dengan teknik bootstrap sampling).\n",
        "Masing-masing pohon membuat prediksi, lalu hasilnya digabungkan (majority voting) untuk menghasilkan keputusan akhir.\n",
        "- KNN adalah model klasifikasi yang tidak membangun model matematis, tetapi membandingkan langsung dengan data latih saat memprediksi. untuk cara kerjanya Ketika memprediksi data baru, KNN mencari k tetangga terdekat (misalnya 5 tetangga terdekat).\n",
        "\n",
        "Kelas dari data baru ditentukan berdasarkan mayoritas kelas dari tetangga tersebut."
      ],
      "metadata": {
        "id": "0ddZ2Y6Nx5p5"
      }
    },
    {
      "cell_type": "code",
      "source": [
        "def evaluate_model(name, y_test, y_pred):\n",
        "    print(f\"\\n===== Evaluasi {name} =====\")\n",
        "    print(\"Akurasi:\", accuracy_score(y_test, y_pred))\n",
        "    print(\"Classification Report:\\n\", classification_report(y_test, y_pred))\n",
        "\n",
        "# Evaluasi semua model\n",
        "evaluate_model(\"Logistic Regression\", y_test, y_pred_log)\n",
        "evaluate_model(\"Random Forest\", y_test, y_pred_rf)\n",
        "evaluate_model(\"K-Nearest Neighbors\", y_test, y_pred_knn)\n"
      ],
      "metadata": {
        "colab": {
          "base_uri": "https://localhost:8080/"
        },
        "id": "L5-V8xv0u3tx",
        "outputId": "cc2a47ee-cce2-4539-c292-f2b760f451b3"
      },
      "execution_count": 17,
      "outputs": [
        {
          "output_type": "stream",
          "name": "stdout",
          "text": [
            "\n",
            "===== Evaluasi Logistic Regression =====\n",
            "Akurasi: 0.8044692737430168\n",
            "Classification Report:\n",
            "               precision    recall  f1-score   support\n",
            "\n",
            "           0       0.82      0.87      0.85       110\n",
            "           1       0.77      0.70      0.73        69\n",
            "\n",
            "    accuracy                           0.80       179\n",
            "   macro avg       0.80      0.78      0.79       179\n",
            "weighted avg       0.80      0.80      0.80       179\n",
            "\n",
            "\n",
            "===== Evaluasi Random Forest =====\n",
            "Akurasi: 0.8100558659217877\n",
            "Classification Report:\n",
            "               precision    recall  f1-score   support\n",
            "\n",
            "           0       0.83      0.86      0.85       110\n",
            "           1       0.77      0.72      0.75        69\n",
            "\n",
            "    accuracy                           0.81       179\n",
            "   macro avg       0.80      0.79      0.80       179\n",
            "weighted avg       0.81      0.81      0.81       179\n",
            "\n",
            "\n",
            "===== Evaluasi K-Nearest Neighbors =====\n",
            "Akurasi: 0.7877094972067039\n",
            "Classification Report:\n",
            "               precision    recall  f1-score   support\n",
            "\n",
            "           0       0.81      0.86      0.83       110\n",
            "           1       0.75      0.67      0.71        69\n",
            "\n",
            "    accuracy                           0.79       179\n",
            "   macro avg       0.78      0.77      0.77       179\n",
            "weighted avg       0.79      0.79      0.78       179\n",
            "\n"
          ]
        }
      ]
    },
    {
      "cell_type": "markdown",
      "source": [
        "d. untuk nilai evaluasi terdapat pada hasil di atas sesuai dengan judulnya dengan arti metrik dari masing masing model nya yaitu untuk accuracy adalah presentase prediksi yang benar dari keseluruhan prediksi misal pada hasil evaluasi Logistic  Regression tertulis 0,80 maka artinya 81% dari data uji berhasil di klasifikasi dengan benar begitu seterusnya\n",
        "kemudian untuk Precision adalah dari seluruh prediksi \"Selamat\", berapa % yang benar-benar selamat Misal pada logistic regression tertulis precision nya 0,77 maka di artikan dari 100 penumpang yang di prediksi selamat, 77 di antaranya memangbenar-benar selamat begitu seterusnya\n",
        "kemudian untuk recall adalah semua penumpang yang benar-benar selamat, berapa persen yang berhasil diprediksi sebagai selamat misal pada hasil evaluasi  logistic regression tertulis 0,70 maka  dari 100 penumpang yang benar-benar selamat, hanya 70 yang berhasil diprediksi sebagai selamat.\n",
        "untuk f1score adalah  Rata-rata harmonis antara precision dan recall dengan penjelasan semakin mendekati 1 , maka semakin bagus performa model kelas tersebut\n",
        "d. dari ketiga hasil tersebut random forest adalah yang baling baik. karena\n",
        "1. Ensemble Learning=Random Forest terdiri dari banyak decision tree. Masing-masing pohon dilatih pada subset acak data dan fitur, lalu hasilnya dipilih berdasarkan voting.\n",
        "Ini membuat model lebih stabil dan kurang rentan terhadap overfitting dibanding single decision tree.\n",
        "2. Robust terhadap noise dan outlier\n",
        "Karena menggunakan agregasi banyak model, Random Forest tidak mudah terpengaruh oleh data yang tidak normal atau outlier — yang memang ada di dataset Titanic seperti pada Fare.\n",
        "3. Dapat menangani fitur kategorikal dan numerik\n",
        "Random Forest bisa bekerja dengan baik tanpa perlu banyak praproses terhadap fitur yang bersifat kategorikal, apalagi setelah di encoding sebelumnya.\n",
        "4. Menangkap hubungan non-linear\n",
        "Model seperti Logistic Regression hanya bisa memodelkan hubungan linear. Sementara Random Forest bisa menangkap hubungan yang kompleks dan tidak linear, yang sangat mungkin ada pada data Titanic (misalnya kombinasi umur dan kelas tiket)."
      ],
      "metadata": {
        "id": "6vW6K1Ir0JKk"
      }
    },
    {
      "cell_type": "code",
      "source": [
        "import numpy as np\n",
        "\n",
        "# Prediksi menggunakan model terbaik (misal Random Forest)\n",
        "y_pred = rf_model.predict(X_test)\n",
        "\n",
        "# a. Jumlah yang diprediksi selamat (kelas 1)\n",
        "predicted_selamat = (y_pred == 1)\n",
        "jumlah_prediksi_selamat = np.sum(predicted_selamat)\n",
        "\n",
        "# b. Jumlah yang benar-benar selamat dari prediksi tersebut\n",
        "benar_selamat = np.sum((y_pred == 1) & (y_test == 1))\n",
        "\n",
        "print(\"Jumlah penumpang yang diprediksi selamat:\", jumlah_prediksi_selamat)\n",
        "print(\"Jumlah yang benar-benar selamat:\", benar_selamat)\n"
      ],
      "metadata": {
        "colab": {
          "base_uri": "https://localhost:8080/"
        },
        "id": "peVsMIfFw34Q",
        "outputId": "0e2ea8dc-4382-404f-cd03-651405d1e5f5"
      },
      "execution_count": null,
      "outputs": [
        {
          "output_type": "stream",
          "name": "stdout",
          "text": [
            "Jumlah penumpang yang diprediksi selamat: 65\n",
            "Jumlah yang benar-benar selamat: 50\n"
          ]
        }
      ]
    },
    {
      "cell_type": "markdown",
      "source": [
        "4  b. penumpang yang di prediksi selamat ada 65 orang dan di prediksi benar benar selamat ada 50 orang."
      ],
      "metadata": {
        "id": "nUjaV-yX4cLH"
      }
    },
    {
      "cell_type": "code",
      "source": [
        "from sklearn.metrics import classification_report\n",
        "\n",
        "report = classification_report(y_test, y_pred, output_dict=True)\n",
        "\n",
        "precision_selamat = report['1']['precision']\n",
        "recall_selamat = report['1']['recall']\n",
        "\n",
        "print(f\"Precision (selamat): {precision_selamat:.2f}\")\n",
        "print(f\"Recall (selamat): {recall_selamat:.2f}\")\n"
      ],
      "metadata": {
        "colab": {
          "base_uri": "https://localhost:8080/"
        },
        "id": "cst0QSPqw9XH",
        "outputId": "1c3a1dfb-ba48-4327-b9f8-7b4e9bf146e1"
      },
      "execution_count": null,
      "outputs": [
        {
          "output_type": "stream",
          "name": "stdout",
          "text": [
            "Precision (selamat): 0.77\n",
            "Recall (selamat): 0.72\n"
          ]
        }
      ]
    },
    {
      "cell_type": "markdown",
      "source": [
        "4 a. untuk nilai precission dari hasil evaluasi Random forest adalah o,77 yang artinya seluruh penumpang yang di prediksi selamat oleh model 77% diantaranya benar benar selamatdan 23% di antaranya bisa dibilang selamat (false Positive) untuk recall nya 0,72 artinya seluruh penumpang yang benar-benar selamat model berhasil mengidentifikasi 72% di antaranya benar. dan 28% penumpang selamat yang tidak terdeteksi oleh model(false negatives)"
      ],
      "metadata": {
        "id": "IuDxdQQj5msA"
      }
    }
  ]
}